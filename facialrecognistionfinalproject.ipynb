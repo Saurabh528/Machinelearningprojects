{
 "cells": [
  {
   "cell_type": "code",
   "execution_count": 1,
   "metadata": {},
   "outputs": [],
   "source": [
    "import cv2\n",
    "import numpy as np\n",
    "import os"
   ]
  },
  {
   "cell_type": "code",
   "execution_count": 2,
   "metadata": {},
   "outputs": [],
   "source": [
    "def distance(x1,x2):\n",
    "    return np.sqrt(sum(x1-x2)**2)\n",
    "def knn(train,test,k=5):\n",
    "    dist=[]\n",
    "    for i in range(train.shape[0]):\n",
    "        x=train[i,:-1]\n",
    "        y=train[i,-1]\n",
    "        d=distance(x,test)\n",
    "        dist.append([d,y])\n",
    "    dk=sorted(dist,key=lambda x:x[0])[:k]\n",
    "    labels=np.array(dk)[:,-1]\n",
    "    output=np.unique(labels,return_counts=True)\n",
    "    index=output[1].argmax()\n",
    "    return (output[0][index])"
   ]
  },
  {
   "cell_type": "code",
   "execution_count": 3,
   "metadata": {},
   "outputs": [],
   "source": [
    "file_path=r'D:'\n",
    "face_data=[]\n",
    "class_id=0\n",
    "labels=[]\n",
    "names={}"
   ]
  },
  {
   "cell_type": "code",
   "execution_count": 7,
   "metadata": {},
   "outputs": [],
   "source": [
    "for fx in os.listdir(file_path):\n",
    "    if fx.endswith('.npy'):\n",
    "        data=np.load(file_path+fx)\n",
    "        face_data.append(data)\n",
    "        target=class_id*np.ones((data.shape[0],))\n",
    "        names[class_id]=fx[:-4]\n",
    "        labels.append(target)\n",
    "        class_id+=1"
   ]
  },
  {
   "cell_type": "code",
   "execution_count": 8,
   "metadata": {},
   "outputs": [],
   "source": [
    "X=np.array(face_data)\n",
    "Y=np.array(labels)"
   ]
  },
  {
   "cell_type": "code",
   "execution_count": 9,
   "metadata": {},
   "outputs": [],
   "source": [
    "n=X.shape[0]\n",
    "for i in range(n):\n",
    "    m=X[i].shape[0]\n",
    "    X[i]=X[i].reshape((m,-1))\n",
    "    Y[i]=Y[i].reshape((m,-1))   "
   ]
  },
  {
   "cell_type": "code",
   "execution_count": 10,
   "metadata": {},
   "outputs": [],
   "source": [
    "face_dataset=np.concatenate(X,axis=0)"
   ]
  },
  {
   "cell_type": "code",
   "execution_count": 11,
   "metadata": {},
   "outputs": [],
   "source": [
    "face_labels=np.concatenate(Y,axis=0).reshape((-1,1))"
   ]
  },
  {
   "cell_type": "code",
   "execution_count": 12,
   "metadata": {},
   "outputs": [
    {
     "name": "stdout",
     "output_type": "stream",
     "text": [
      "(16, 30000)\n",
      "(16, 1)\n"
     ]
    }
   ],
   "source": [
    "print(face_dataset.shape)\n",
    "print(face_labels.shape)\n",
    "training_dataset=np.concatenate((face_dataset,face_labels),axis=1)"
   ]
  },
  {
   "cell_type": "code",
   "execution_count": null,
   "metadata": {},
   "outputs": [],
   "source": [
    "training_dataset.shape"
   ]
  },
  {
   "cell_type": "code",
   "execution_count": null,
   "metadata": {
    "scrolled": false
   },
   "outputs": [],
   "source": [
    "cap=cv2.VideoCapture(0)\n",
    "face_cascade=cv2.CascadeClassifier(r'D:\\machine learning files\\haarcascade_frontalface_alt.xml')\n",
    "while True:\n",
    "    ret,frame=cap.read()\n",
    "    if ret==0:\n",
    "        continue\n",
    "    faces=face_cascade.detectMultiScale(frame,1.3,2)\n",
    "    for face in faces:\n",
    "        x,y,w,h=face\n",
    "        offset=10\n",
    "        frame_section=frame[y-offset:y+h+offset,x-offset:x+w+offset]\n",
    "        frame_section=cv2.resize(frame_section,(100,100))\n",
    "        frame_section=frame_section.flatten()\n",
    "        output=knn(training_dataset,frame_section,5)\n",
    "        pred_name=names[int(output)]\n",
    "        cv2.putText(frame,pred_name,(x,y-10),cv2.FONT_HERSHEY_SIMPLEX,1,(255,0,0),2,cv2.LINE_AA)\n",
    "        cv2.rectangle(frame,(x,y),(x+w,y+h),(255,0,0),2)\n",
    "    cv2.imshow('img',frame)\n",
    "    keypressed=cv2.waitKey(1) & 0xFF\n",
    "    if keypressed==ord('q'):\n",
    "        break\n",
    "cap.release()\n",
    "cv2.destroyAllWindows()"
   ]
  },
  {
   "cell_type": "code",
   "execution_count": null,
   "metadata": {},
   "outputs": [],
   "source": [
    "print(2)"
   ]
  },
  {
   "cell_type": "code",
   "execution_count": null,
   "metadata": {},
   "outputs": [],
   "source": []
  }
 ],
 "metadata": {
  "kernelspec": {
   "display_name": "Python 3",
   "language": "python",
   "name": "python3"
  },
  "language_info": {
   "codemirror_mode": {
    "name": "ipython",
    "version": 3
   },
   "file_extension": ".py",
   "mimetype": "text/x-python",
   "name": "python",
   "nbconvert_exporter": "python",
   "pygments_lexer": "ipython3",
   "version": "3.6.8"
  }
 },
 "nbformat": 4,
 "nbformat_minor": 2
}
