{
 "cells": [
  {
   "cell_type": "code",
   "execution_count": 1,
   "metadata": {},
   "outputs": [],
   "source": [
    "import numpy as np\n",
    "import matplotlib.pyplot as plt\n",
    "import pandas as pd\n",
    "import sys"
   ]
  },
  {
   "cell_type": "code",
   "execution_count": 2,
   "metadata": {},
   "outputs": [],
   "source": [
    "dataX=pd.read_csv(r\"C:\\Users\\admin\\.ipynb_checkpoints\\logisticX.csv\")"
   ]
  },
  {
   "cell_type": "code",
   "execution_count": 3,
   "metadata": {},
   "outputs": [],
   "source": [
    "dataY=pd.read_csv(r\"C:\\Users\\admin\\.ipynb_checkpoints\\logisticY.csv\")\n"
   ]
  },
  {
   "cell_type": "code",
   "execution_count": 29,
   "metadata": {},
   "outputs": [],
   "source": [
    "X=dataX.values\n",
    "Y=dataY.values\n",
    "X=(X-X.mean())/X.std()\n"
   ]
  },
  {
   "cell_type": "code",
   "execution_count": 30,
   "metadata": {},
   "outputs": [],
   "source": [
    "dist1=X[:49,:]"
   ]
  },
  {
   "cell_type": "code",
   "execution_count": 31,
   "metadata": {},
   "outputs": [],
   "source": [
    "dist2=X[49:,:]"
   ]
  },
  {
   "cell_type": "code",
   "execution_count": 159,
   "metadata": {},
   "outputs": [],
   "source": [
    "def hypothesis(x,theta,bias):\n",
    "    a=np.dot(x,theta.T)\n",
    "    return sigmoid(a+bias)"
   ]
  },
  {
   "cell_type": "code",
   "execution_count": 160,
   "metadata": {},
   "outputs": [],
   "source": [
    "def sigmoid(z):\n",
    "    return (1.0/(1.0+np.exp(-1*z)))\n",
    "def error(x,y,bias,theta):\n",
    "    m=x.shape[0]\n",
    "    e=0\n",
    "    for i in range(m):\n",
    "        hx=hypothesis(x[i],theta,bias)\n",
    "        e+=y[i]*np.log2(abs(hx))+(1-y[i])*np.log2(abs(1-hx))\n",
    "    return -e/m"
   ]
  },
  {
   "cell_type": "code",
   "execution_count": 161,
   "metadata": {},
   "outputs": [],
   "source": [
    "def gradient(x,y,bias,theta):\n",
    "    grad_theta=np.zeros(theta.shape)\n",
    "    grad_b=0.0\n",
    "    m=x.shape[0]\n",
    "    for i in range(m):\n",
    "        hx=hypothesis(x[i],theta,bias)\n",
    "        grad_theta+=(y[i]-hx)*x[i]\n",
    "        grad_b+=(y[i]-hx)\n",
    "    grad_theta/=m\n",
    "    grad_b/=m\n",
    "    return [grad_theta,grad_b]"
   ]
  },
  {
   "cell_type": "code",
   "execution_count": 439,
   "metadata": {},
   "outputs": [],
   "source": [
    "def graddescent(x,y,bias,theta,learningrate=0.001):\n",
    "    err=error(x,y,bias,theta)\n",
    "    [thetas,bias]=gradient(x,y,bias,theta)\n",
    "    theta=theta+learningrate*thetas\n",
    "    bias=bias+learningrate*bias\n",
    "    return err,theta,bias\n",
    "def errorfunc(x,theta,bias,y):\n",
    "    err=0\n",
    "    hx=hypothesis(x,theta,bias)\n",
    "    err=y*np.log2(abs(hx))+(1-y)*np.log2(abs(1-hx))\n",
    "    return -err\n",
    "def stochgrad(x,theta,bias,y):\n",
    "    grad_thetas=np.zeros(theta.shape)\n",
    "    grad_bias=0.0\n",
    "    hx=hypothesis(x,theta,bias)\n",
    "    grad_thetas+=(y-hx)*x\n",
    "    grad_bias+=y-hx\n",
    "    return grad_thetas,grad_bias\n",
    "def stochasticgrad(x,y,bias,theta,learningrate=0.001,batchsize=1):\n",
    "    grad_w=np.zeros(theta.shape)\n",
    "    a=grad_w\n",
    "    grad_b=0.0\n",
    "    m=x.shape[0]\n",
    "    costlist=[]\n",
    "    b=0.0\n",
    "    for j in range(400):\n",
    "        indices=np.arange(m)\n",
    "        np.random.shuffle(indices)\n",
    "        array=indices[:batchsize]\n",
    "        cost=0.0\n",
    "        for i in array:\n",
    "            cost+=errorfunc(x[i],theta,bias,y[i])\n",
    "            grad_w,grad_b=stochgrad(x[i],theta,bias,y[i])\n",
    "            a+=grad_w\n",
    "            b+=grad_b\n",
    "        costlist.append(cost/batchsize)\n",
    "        a/=batchsize\n",
    "        b/=batchsize\n",
    "        theta=theta+learningrate*a\n",
    "        bias=bias+learningrate*a\n",
    "    return costlist,theta,bias\n",
    "            \n"
   ]
  },
  {
   "cell_type": "code",
   "execution_count": 440,
   "metadata": {},
   "outputs": [],
   "source": [
    "finaltheta=5*np.random.random((X.shape[1]))\n",
    "def pred(x,theta,bias):\n",
    "    a=hypothesis(x,theta,bias)\n",
    "    if(a<0.5):\n",
    "        return 0\n",
    "    else:\n",
    "        return 1\n",
    "def accuracy(x,y,theta,bias):\n",
    "    ypredic=np.zeros(x.shape[0])\n",
    "    m=x.shape[0]\n",
    "    totalprediction=0\n",
    "    for i in range(m):\n",
    "        p=pred(x[i],theta,bias)\n",
    "        ypredic[i]+=p\n",
    "        if(ypredic[i]==y[i]):\n",
    "            totalprediction+=1\n",
    "    totalprediction/=m\n",
    "    return totalprediction"
   ]
  },
  {
   "cell_type": "code",
   "execution_count": 441,
   "metadata": {},
   "outputs": [],
   "source": [
    "errorlist=[]\n",
    "accuracylist=[]\n",
    "finalbias=2*np.random.random()\n",
    "maxitr=200\n",
    "for i in range(maxitr):\n",
    "    e,finaltheta,finalbias=graddescent(X,Y,finalbias,finaltheta,0.2)\n",
    "    errorlist.append(e)\n",
    "    accuracylist.append(accuracy(X,Y,finaltheta,finalbias))    "
   ]
  },
  {
   "cell_type": "code",
   "execution_count": 442,
   "metadata": {},
   "outputs": [
    {
     "data": {
      "text/plain": [
       "<matplotlib.collections.PathCollection at 0xf86f750>"
      ]
     },
     "execution_count": 442,
     "metadata": {},
     "output_type": "execute_result"
    },
    {
     "data": {
      "image/png": "[encoded data removed]",
      "text/plain": [
       "<Figure size 432x288 with 1 Axes>"
      ]
     },
     "metadata": {
      "needs_background": "light"
     },
     "output_type": "display_data"
    }
   ],
   "source": [
    "\n",
    "x=np.linspace(-8,4,2)\n",
    "y=-(finaltheta[0]*x+finalbias)/finaltheta[1]\n",
    "plt.plot(x,y)\n",
    "plt.scatter(dist1[:,0],dist1[:,1],c='yellow')\n",
    "plt.scatter(dist2[:,0],dist2[:,1],c='red')\n",
    "\n"
   ]
  },
  {
   "cell_type": "code",
   "execution_count": 443,
   "metadata": {},
   "outputs": [
    {
     "name": "stdout",
     "output_type": "stream",
     "text": [
      "0.8888888888888888\n"
     ]
    },
    {
     "data": {
      "image/png": "[encoded data removed]",
      "text/plain": [
       "<Figure size 432x288 with 1 Axes>"
      ]
     },
     "metadata": {
      "needs_background": "light"
     },
     "output_type": "display_data"
    }
   ],
   "source": [
    "\n",
    "plt.plot(accuracylist)\n",
    "print(accuracylist[-1])"
   ]
  },
  {
   "cell_type": "code",
   "execution_count": 445,
   "metadata": {},
   "outputs": [
    {
     "ename": "IndexError",
     "evalue": "list assignment index out of range",
     "output_type": "error",
     "traceback": [
      "\u001b[1;31m---------------------------------------------------------------------------\u001b[0m",
      "\u001b[1;31mIndexError\u001b[0m                                Traceback (most recent call last)",
      "\u001b[1;32m<ipython-input-445-9890229f49ce>\u001b[0m in \u001b[0;36m<module>\u001b[1;34m\u001b[0m\n\u001b[0;32m      1\u001b[0m \u001b[0mtheta\u001b[0m\u001b[1;33m=\u001b[0m\u001b[0mnp\u001b[0m\u001b[1;33m.\u001b[0m\u001b[0mzeros\u001b[0m\u001b[1;33m(\u001b[0m\u001b[0mX\u001b[0m\u001b[1;33m.\u001b[0m\u001b[0mshape\u001b[0m\u001b[1;33m[\u001b[0m\u001b[1;36m1\u001b[0m\u001b[1;33m]\u001b[0m\u001b[1;33m)\u001b[0m\u001b[1;33m\u001b[0m\u001b[0m\n\u001b[0;32m      2\u001b[0m \u001b[0mbias\u001b[0m\u001b[1;33m=\u001b[0m\u001b[1;36m0.0\u001b[0m\u001b[1;33m\u001b[0m\u001b[0m\n\u001b[1;32m----> 3\u001b[1;33m \u001b[0merror\u001b[0m\u001b[1;33m,\u001b[0m\u001b[0mtheta\u001b[0m\u001b[1;33m,\u001b[0m\u001b[0mbias\u001b[0m\u001b[1;33m=\u001b[0m\u001b[0mstochasticgrad\u001b[0m\u001b[1;33m(\u001b[0m\u001b[0mx\u001b[0m\u001b[1;33m,\u001b[0m\u001b[0my\u001b[0m\u001b[1;33m,\u001b[0m\u001b[0mbias\u001b[0m\u001b[1;33m,\u001b[0m\u001b[0mtheta\u001b[0m\u001b[1;33m,\u001b[0m\u001b[0mlearningrate\u001b[0m\u001b[1;33m=\u001b[0m\u001b[1;36m0.01\u001b[0m\u001b[1;33m,\u001b[0m\u001b[0mbatchsize\u001b[0m\u001b[1;33m=\u001b[0m\u001b[1;36m5\u001b[0m\u001b[1;33m)\u001b[0m\u001b[1;33m\u001b[0m\u001b[0m\n\u001b[0m",
      "\u001b[1;32m<ipython-input-439-d3947d113217>\u001b[0m in \u001b[0;36mstochasticgrad\u001b[1;34m(x, y, bias, theta, learningrate, batchsize)\u001b[0m\n\u001b[0;32m     34\u001b[0m             \u001b[0ma\u001b[0m\u001b[1;33m+=\u001b[0m\u001b[0mgrad_w\u001b[0m\u001b[1;33m\u001b[0m\u001b[0m\n\u001b[0;32m     35\u001b[0m             \u001b[0mb\u001b[0m\u001b[1;33m+=\u001b[0m\u001b[0mgrad_b\u001b[0m\u001b[1;33m\u001b[0m\u001b[0m\n\u001b[1;32m---> 36\u001b[1;33m         \u001b[0mcostlist\u001b[0m\u001b[1;33m[\u001b[0m\u001b[0mj\u001b[0m\u001b[1;33m]\u001b[0m\u001b[1;33m=\u001b[0m\u001b[0mcost\u001b[0m\u001b[1;33m/\u001b[0m\u001b[0mbatchsize\u001b[0m\u001b[1;33m\u001b[0m\u001b[0m\n\u001b[0m\u001b[0;32m     37\u001b[0m         \u001b[0ma\u001b[0m\u001b[1;33m/=\u001b[0m\u001b[0mbatchsize\u001b[0m\u001b[1;33m\u001b[0m\u001b[0m\n\u001b[0;32m     38\u001b[0m         \u001b[0mb\u001b[0m\u001b[1;33m/=\u001b[0m\u001b[0mbatchsize\u001b[0m\u001b[1;33m\u001b[0m\u001b[0m\n",
      "\u001b[1;31mIndexError\u001b[0m: list assignment index out of range"
     ]
    }
   ],
   "source": [
    "theta=np.zeros(X.shape[1])\n",
    "bias=0.0\n",
    "error,theta,bias=stochasticgrad(x,y,bias,theta,learningrate=0.01,batchsize=5)\n"
   ]
  },
  {
   "cell_type": "code",
   "execution_count": null,
   "metadata": {},
   "outputs": [],
   "source": [
    "e=np.array(e)"
   ]
  },
  {
   "cell_type": "code",
   "execution_count": null,
   "metadata": {},
   "outputs": [],
   "source": []
  },
  {
   "cell_type": "code",
   "execution_count": null,
   "metadata": {},
   "outputs": [],
   "source": []
  }
 ],
 "metadata": {
  "kernelspec": {
   "display_name": "Python 3",
   "language": "python",
   "name": "python3"
  },
  "language_info": {
   "codemirror_mode": {
    "name": "ipython",
    "version": 3
   },
   "file_extension": ".py",
   "mimetype": "text/x-python",
   "name": "python",
   "nbconvert_exporter": "python",
   "pygments_lexer": "ipython3",
   "version": "3.6.8"
  }
 },
 "nbformat": 4,
 "nbformat_minor": 2
}
